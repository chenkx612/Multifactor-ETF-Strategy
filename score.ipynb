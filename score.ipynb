{
 "cells": [
  {
   "cell_type": "markdown",
   "id": "8789c249",
   "metadata": {},
   "source": [
    "# 导入依赖库"
   ]
  },
  {
   "cell_type": "code",
   "execution_count": 284,
   "id": "623536e9",
   "metadata": {},
   "outputs": [],
   "source": [
    "import os\n",
    "import pandas as pd\n",
    "import numpy as np\n",
    "from sklearn.decomposition import PCA\n",
    "from sklearn.preprocessing import StandardScaler\n",
    "from utils import get_data_dict, get_ret_mat, compute_ic, compute_ir\n",
    "import matplotlib.pyplot as plt\n",
    "from sklearn.neural_network import MLPRegressor\n"
   ]
  },
  {
   "cell_type": "markdown",
   "id": "4725c1f8",
   "metadata": {},
   "source": [
    "# 配置参数"
   ]
  },
  {
   "cell_type": "code",
   "execution_count": 285,
   "id": "0f655b27",
   "metadata": {},
   "outputs": [],
   "source": [
    "TRAIN_START = '2025-02-01'          # 训练集起始日期\n",
    "TRAIN_END = '2025-04-30'            # 训练集起始日期\n",
    "VALID_START = '2025-05-01'          # 验证集起始日期\n",
    "VALID_END = '2025-05-31'            # 验证集起始日期\n",
    "IR_THRESHOLD = 0.2                  # IR 阈值\n",
    "PCA_VARIANCE_THRESHOLD = 0.99        # PCA 方差解释比例阈值\n",
    "LASSO_CV_FOLDS = 5                  # LassoCV 交叉验证折数\n",
    "FACTOR_DIR = 'data/factor'          # 因子文件目录\n"
   ]
  },
  {
   "cell_type": "markdown",
   "id": "9eed5e34",
   "metadata": {},
   "source": [
    "# 因子检验"
   ]
  },
  {
   "cell_type": "code",
   "execution_count": 286,
   "id": "0ce31767",
   "metadata": {},
   "outputs": [
    {
     "name": "stdout",
     "output_type": "stream",
     "text": [
      "['ma_spread_60_10', 'ma_spread_60_3', 'ma_spread_60_5', 'macd', 'momentum_3', 'momentum_40', 'momentum_60', 'obv_120', 'obv_5', 'rsi_42', 'rsi_63', 'turnover_10', 'turnover_120', 'turnover_15', 'turnover_20', 'turnover_3', 'turnover_40', 'turnover_5', 'turnover_60', 'volume_pct_10', 'volume_pct_15', 'volume_pct_20']\n"
     ]
    }
   ],
   "source": [
    "# 遍历因子目录，选取训练集期间 IR > 阈值的因子\n",
    "selected_factors = []  # 存储因子文件名\n",
    "factor_ir = {} \n",
    "factor_df = {}\n",
    "for fname in os.listdir(FACTOR_DIR):\n",
    "    df = pd.read_csv(os.path.join(FACTOR_DIR, fname), index_col=0, parse_dates=True)\n",
    "    factor_name = fname[:-4]\n",
    "    # 假设最后一列为当日 IC，训练期间 IR=mean(IC)/std(IC)\n",
    "    train_df = df.loc[TRAIN_START:TRAIN_END]\n",
    "    ic_series = train_df.iloc[:, -1]\n",
    "    ir = compute_ir(ic_series)\n",
    "    factor_ir[factor_name] = ir\n",
    "    if abs(ir) > IR_THRESHOLD:\n",
    "        selected_factors.append(factor_name)\n",
    "        factor_df[factor_name] = df.iloc[:, :-1]\n",
    "selected_factors = sorted(selected_factors)\n",
    "print(selected_factors)\n",
    "# print(factor_ir)\n"
   ]
  },
  {
   "cell_type": "markdown",
   "id": "dc47d14a",
   "metadata": {},
   "source": [
    "# 因子去重"
   ]
  },
  {
   "cell_type": "code",
   "execution_count": 287,
   "id": "21da3b92",
   "metadata": {},
   "outputs": [],
   "source": [
    "# 将每个因子 DataFrame 转为 (date, code) MultiIndex Sereis\n",
    "stacked_list = []\n",
    "for name, df in factor_df.items():\n",
    "    # df: 行=date, 列=code\n",
    "    df.columns = df.columns.astype(str)\n",
    "    s = df.stack()\n",
    "    s.name = name\n",
    "    stacked_list.append(s)\n",
    "# 合并所有因子 Series，axis=1，即得到 MultiIndex index=(date, code)\n",
    "factors_concat = pd.concat(stacked_list, axis=1).sort_index()\n"
   ]
  },
  {
   "cell_type": "code",
   "execution_count": 288,
   "id": "2f8e78d5",
   "metadata": {},
   "outputs": [
    {
     "name": "stdout",
     "output_type": "stream",
     "text": [
      "14\n"
     ]
    }
   ],
   "source": [
    "# 提取训练期数据并填充缺失值\n",
    "train_data = factors_concat.loc[TRAIN_START:TRAIN_END]\n",
    "valid_data = factors_concat.loc[VALID_START:VALID_END]\n",
    "\n",
    "# 先做标准化：每列减均值、除以标准差\n",
    "scaler = StandardScaler()\n",
    "train_data_scaled = scaler.fit_transform(train_data)\n",
    "valid_data_scaled = scaler.transform(valid_data)\n",
    "\n",
    "# 获取 PCA 降维的维数\n",
    "pre_pca = PCA()\n",
    "pre_pca.fit(train_data_scaled)\n",
    "cum_var = np.cumsum(pre_pca.explained_variance_ratio_)\n",
    "n_components = np.searchsorted(cum_var, PCA_VARIANCE_THRESHOLD) + 1\n",
    "print(n_components)\n"
   ]
  },
  {
   "cell_type": "code",
   "execution_count": 289,
   "id": "f82939a9",
   "metadata": {},
   "outputs": [],
   "source": [
    "# PCA 降维\n",
    "pca = PCA(n_components=n_components)\n",
    "X_train = pca.fit_transform(train_data_scaled)\n",
    "X_valid = pca.transform(valid_data_scaled)\n",
    "\n",
    "# 再标准化\n",
    "rescaler = StandardScaler()\n",
    "X_train = rescaler.fit_transform(X_train)\n",
    "X_valid = rescaler.transform(X_valid)\n"
   ]
  },
  {
   "cell_type": "code",
   "execution_count": 290,
   "id": "68f110f4",
   "metadata": {},
   "outputs": [],
   "source": [
    "# 数据集\n",
    "data_dict = get_data_dict(start=TRAIN_START) \n",
    "ret_mat = get_ret_mat(data_dict)\n",
    "y_train = ret_mat.stack().reindex(train_data.index).values * 1e4\n",
    "y_valid = ret_mat.stack().reindex(valid_data.index).values * 1e4\n"
   ]
  },
  {
   "cell_type": "code",
   "execution_count": 291,
   "id": "09474895",
   "metadata": {},
   "outputs": [
    {
     "name": "stdout",
     "output_type": "stream",
     "text": [
      "(3120, 14)\n",
      "(3120,)\n",
      "(988, 14)\n",
      "(988,)\n"
     ]
    }
   ],
   "source": [
    "print(X_train.shape)\n",
    "print(y_train.shape)\n",
    "print(X_valid.shape)\n",
    "print(y_valid.shape)"
   ]
  },
  {
   "cell_type": "markdown",
   "id": "18f39be9",
   "metadata": {},
   "source": [
    "# 训练"
   ]
  },
  {
   "cell_type": "code",
   "execution_count": 292,
   "id": "f778ccad",
   "metadata": {},
   "outputs": [
    {
     "name": "stderr",
     "output_type": "stream",
     "text": [
      "/home/chenkx/anaconda3/envs/24/lib/python3.12/site-packages/sklearn/neural_network/_multilayer_perceptron.py:691: ConvergenceWarning: Stochastic Optimizer: Maximum iterations (1000) reached and the optimization hasn't converged yet.\n",
      "  warnings.warn(\n"
     ]
    }
   ],
   "source": [
    "mlp = MLPRegressor(\n",
    "    hidden_layer_sizes=(32, 16, 8),\n",
    "    activation='relu',\n",
    "    alpha=3e-5,\n",
    "    learning_rate_init=1e-4,\n",
    "    max_iter=1000,\n",
    "    random_state=42\n",
    ")\n",
    "mlp.fit(X_train, y_train)\n",
    "train_pred = mlp.predict(X_train)\n"
   ]
  },
  {
   "cell_type": "code",
   "execution_count": 293,
   "id": "65d45654",
   "metadata": {},
   "outputs": [
    {
     "name": "stdout",
     "output_type": "stream",
     "text": [
      "train ic mean: 0.33048718693866325\n",
      "train ir: 1.733475836042132\n"
     ]
    }
   ],
   "source": [
    "pred_mat_train = pd.Series(train_pred, index=train_data.index).unstack(level=1)\n",
    "ic_train = compute_ic(pred_mat_train, ret_mat)\n",
    "print(f'train ic mean: {ic_train.mean()}')\n",
    "print(f'train ir: {compute_ir(ic_train)}')\n"
   ]
  },
  {
   "cell_type": "markdown",
   "id": "8c91ef71",
   "metadata": {},
   "source": [
    "# 验证"
   ]
  },
  {
   "cell_type": "code",
   "execution_count": 294,
   "id": "7aca6a3d",
   "metadata": {},
   "outputs": [],
   "source": [
    "valid_pred = mlp.predict(X_valid)\n"
   ]
  },
  {
   "cell_type": "code",
   "execution_count": 295,
   "id": "5c6b4676",
   "metadata": {},
   "outputs": [
    {
     "name": "stdout",
     "output_type": "stream",
     "text": [
      "valid ic mean: 0.16377981721221238\n",
      "valid ir: 0.7809497032656584\n"
     ]
    }
   ],
   "source": [
    "pred_mat_valid = pd.Series(valid_pred, index=valid_data.index).unstack(level=1)\n",
    "ic_valid = compute_ic(pred_mat_valid, ret_mat)\n",
    "print(f'valid ic mean: {ic_valid.mean()}')\n",
    "print(f'valid ir: {compute_ir(ic_valid)}')\n"
   ]
  },
  {
   "cell_type": "markdown",
   "id": "28e13160",
   "metadata": {},
   "source": [
    "# 可视化"
   ]
  },
  {
   "cell_type": "code",
   "execution_count": 296,
   "id": "83ab302a",
   "metadata": {},
   "outputs": [
    {
     "data": {
      "image/png": "[encoded data removed]",
      "text/plain": [
       "<Figure size 640x480 with 1 Axes>"
      ]
     },
     "metadata": {},
     "output_type": "display_data"
    }
   ],
   "source": [
    "# 可视化\n",
    "plt.figure()\n",
    "ic = pd.concat([ic_train, ic_valid])\n",
    "ic.plot()\n",
    "plt.title('Daily Rank IC')\n",
    "plt.xlabel('Date')\n",
    "plt.ylabel('Rank IC')\n",
    "plt.tight_layout()\n",
    "plt.show()\n"
   ]
  },
  {
   "cell_type": "markdown",
   "id": "7a5a00e7",
   "metadata": {},
   "source": [
    "# 存储得分"
   ]
  },
  {
   "cell_type": "code",
   "execution_count": 297,
   "id": "afbc9389",
   "metadata": {},
   "outputs": [],
   "source": [
    "pred_mat = pd.concat([pred_mat_train, pred_mat_valid])\n",
    "pred_mat.to_csv('data/score.csv')\n"
   ]
  }
 ],
 "metadata": {
  "kernelspec": {
   "display_name": "24",
   "language": "python",
   "name": "python3"
  },
  "language_info": {
   "codemirror_mode": {
    "name": "ipython",
    "version": 3
   },
   "file_extension": ".py",
   "mimetype": "text/x-python",
   "name": "python",
   "nbconvert_exporter": "python",
   "pygments_lexer": "ipython3",
   "version": "3.12.9"
  }
 },
 "nbformat": 4,
 "nbformat_minor": 5
}
