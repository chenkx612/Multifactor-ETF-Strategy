{
 "cells": [
  {
   "cell_type": "markdown",
   "id": "f611122a",
   "metadata": {},
   "source": [
    "# 导入依赖库"
   ]
  },
  {
   "cell_type": "code",
   "execution_count": 79,
   "id": "1b994b49",
   "metadata": {},
   "outputs": [],
   "source": [
    "import json\n",
    "import numpy as np\n",
    "import pandas as pd\n",
    "from scipy.optimize import minimize\n",
    "from utils import get_ret_mat, get_data_dict\n"
   ]
  },
  {
   "cell_type": "markdown",
   "id": "1e561f7e",
   "metadata": {},
   "source": [
    "# 参数配置"
   ]
  },
  {
   "cell_type": "code",
   "execution_count": 80,
   "id": "aa68fea8",
   "metadata": {},
   "outputs": [],
   "source": [
    "n_top = 10  # 每周选取前 n_top 只股票\n",
    "score_path = 'data/score.csv'\n",
    "reb_dict_path = 'data/reb_dict.json'"
   ]
  },
  {
   "cell_type": "markdown",
   "id": "d7fd42d0",
   "metadata": {},
   "source": [
    "# 工具函数"
   ]
  },
  {
   "cell_type": "code",
   "execution_count": 81,
   "id": "452958a2",
   "metadata": {},
   "outputs": [],
   "source": [
    "def compute_risk_parity_weights(cov, max_iter=1000, tol=1e-8):\n",
    "    \"\"\"使用SLSQP求解等风险贡献权重\"\"\"\n",
    "    n = cov.shape[0]\n",
    "\n",
    "    # objective: sum of squared deviations of risk contributions to equal target\n",
    "    def objective(w):\n",
    "        # portfolio risk contributions\n",
    "        z = cov.dot(w)\n",
    "        rc = w * z\n",
    "        target = np.sum(rc) / n\n",
    "        return np.sum((rc - target) ** 2)\n",
    "\n",
    "    # gradient of the objective\n",
    "    def gradient(w):\n",
    "        z = cov.dot(w)\n",
    "        rc = w * z\n",
    "        target = np.sum(rc) / n\n",
    "        g = rc - target  # vector of deviations\n",
    "\n",
    "        # derivative of target wrt w: 2/n * (Sigma w)\n",
    "        d_target = 2.0 * z / n\n",
    "\n",
    "        # compute gradient: grad_i = 2 * sum_j g_j * (d_rc_j/d_w_i - d_target_i)\n",
    "        # where d_rc_j/d_w_i = delta_{ij} z_j + w_j * cov[j, i]\n",
    "        # and d_target_i same for all j\n",
    "        # we'll compute elementwise\n",
    "        grad = np.zeros_like(w)\n",
    "        for i in range(n):\n",
    "            # compute d_rc_j/d_w_i for all j\n",
    "            d_rc = np.zeros(n)\n",
    "            # term when j == i: z_i\n",
    "            d_rc[i] = z[i]\n",
    "            # term for all j: w_j * cov[j, i]\n",
    "            d_rc += w * cov[:, i]\n",
    "            # derivative contributions\n",
    "            grad[i] = 2.0 * np.dot(g, d_rc - d_target[i])\n",
    "        return grad\n",
    "\n",
    "    # constraints: sum(w) == 1\n",
    "    constraints = ({'type': 'eq', 'fun': lambda w: np.sum(w) - 1.0,\n",
    "                    'jac': lambda w: np.ones_like(w)})\n",
    "    # bounds: w >= 0\n",
    "    bounds = tuple((1/(2*n), 2/n) for _ in range(n))\n",
    "\n",
    "    # initial guess: equal weights\n",
    "    w0 = np.ones(n) / n\n",
    "\n",
    "    result = minimize(\n",
    "        objective,\n",
    "        w0,\n",
    "        method='SLSQP',\n",
    "        jac=gradient,\n",
    "        bounds=bounds,\n",
    "        constraints=constraints,\n",
    "        options={'maxiter': max_iter, 'ftol': tol, 'disp': False}\n",
    "    )\n",
    "\n",
    "    if not result.success:\n",
    "        raise RuntimeError(f\"Risk parity optimization failed: {result.message}\")\n",
    "\n",
    "    return result.x"
   ]
  },
  {
   "cell_type": "code",
   "execution_count": 82,
   "id": "7881328a",
   "metadata": {},
   "outputs": [],
   "source": [
    "def get_reb_dict(score_df, n_top, risk_parity=False, lookback_window=60):\n",
    "    \"\"\"\n",
    "    输入：\n",
    "      - score_df: D, taFrame, index 为日期, columns 为标的代码, values 为得分\n",
    "      - n_top: 每次选股数量\n",
    "      - lookback_window: 协方差估计窗口长度\n",
    "    返回：\n",
    "      - dict of {rebalance_date: {code: weight, ...}, ...}\n",
    "    \"\"\"\n",
    "    sel_weights = {}\n",
    "    ret_df = get_ret_mat(data_dict=get_data_dict(start='2024-06-01')) * 100\n",
    "    dates =  ret_df.index\n",
    "    week_ends = score_df.iloc[:, 0].resample('W-FRI').apply(lambda x: x.index[-1]).tolist()  # 每周最后一个交易日\n",
    "    for dt in week_ends:\n",
    "        # 获取当日得分并选前 n_top\n",
    "        scores = score_df.loc[dt].dropna()\n",
    "        top_codes = scores.nlargest(n_top).index.tolist()\n",
    "\n",
    "        # 等权配置\n",
    "        if not risk_parity:\n",
    "          sel_weights[dt.strftime('%Y-%m-%d')] = dict(zip(top_codes, np.ones(n_top)/n_top))\n",
    "        \n",
    "        # 风险平价配置\n",
    "        else:\n",
    "            # 选取前 lookback_window 个交易日, 计算协方差矩阵\n",
    "            end = dt\n",
    "            loc = dates.get_loc(dt)\n",
    "            start_loc = max(0, loc - lookback_window)\n",
    "            start = dates[start_loc]\n",
    "            rets = ret_df.loc[start:end, top_codes]\n",
    "            cov = rets.cov().values\n",
    "\n",
    "            # 计算风险平价权重\n",
    "            w = compute_risk_parity_weights(cov)\n",
    "            sel_weights[dt.strftime('%Y-%m-%d')] = dict(zip(top_codes, w))\n",
    "\n",
    "    return sel_weights"
   ]
  },
  {
   "cell_type": "markdown",
   "id": "a8e16c8a",
   "metadata": {},
   "source": [
    "# 求解风险平价配置"
   ]
  },
  {
   "cell_type": "code",
   "execution_count": 83,
   "id": "dee23189",
   "metadata": {},
   "outputs": [],
   "source": [
    "# 获取选股及权重结果\n",
    "score_df = pd.read_csv(score_path, index_col=0, parse_dates=True)\n",
    "reb_dict = get_reb_dict(score_df, n_top, risk_parity=False)"
   ]
  },
  {
   "cell_type": "code",
   "execution_count": 84,
   "id": "8ce86526",
   "metadata": {},
   "outputs": [],
   "source": [
    "# 存储字典\n",
    "with open(reb_dict_path, 'w') as f:\n",
    "    json.dump(reb_dict, f)"
   ]
  }
 ],
 "metadata": {
  "kernelspec": {
   "display_name": "24",
   "language": "python",
   "name": "python3"
  },
  "language_info": {
   "codemirror_mode": {
    "name": "ipython",
    "version": 3
   },
   "file_extension": ".py",
   "mimetype": "text/x-python",
   "name": "python",
   "nbconvert_exporter": "python",
   "pygments_lexer": "ipython3",
   "version": "3.12.9"
  }
 },
 "nbformat": 4,
 "nbformat_minor": 5
}
