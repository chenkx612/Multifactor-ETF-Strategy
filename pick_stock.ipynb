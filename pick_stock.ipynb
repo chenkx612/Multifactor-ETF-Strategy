{
 "cells": [
  {
   "cell_type": "markdown",
   "id": "a31f0a3f",
   "metadata": {},
   "source": [
    "# 导入依赖库"
   ]
  },
  {
   "cell_type": "code",
   "execution_count": 1,
   "id": "a2e9cc2d",
   "metadata": {},
   "outputs": [],
   "source": [
    "import os\n",
    "import pandas as pd\n",
    "import akshare as ak\n",
    "from utils import get_etf_data\n"
   ]
  },
  {
   "cell_type": "markdown",
   "id": "998b1a9f",
   "metadata": {},
   "source": [
    "# 超参数"
   ]
  },
  {
   "cell_type": "code",
   "execution_count": 2,
   "id": "21d1a00c",
   "metadata": {},
   "outputs": [],
   "source": [
    "max_price = 50  # 价格要求\n",
    "min_sample_size = 252  # 样本量要求\n",
    "min_transaction_amount = 1e7 # 成交额要求\n"
   ]
  },
  {
   "cell_type": "markdown",
   "id": "71e7664a",
   "metadata": {},
   "source": [
    "# 工具函数"
   ]
  },
  {
   "cell_type": "code",
   "execution_count": 3,
   "id": "64d86b87",
   "metadata": {},
   "outputs": [],
   "source": [
    "def get_etfs(update=False):\n",
    "    \"\"\"获取 ETF 实时行情\"\"\"\n",
    "    filename = f\"data/etf.csv\"\n",
    "\n",
    "    if not update and os.path.exists(filename):\n",
    "        df = pd.read_csv(filename)\n",
    "\n",
    "    else:\n",
    "        df = ak.fund_etf_category_sina(symbol=\"ETF基金\")\n",
    "        df = df.sort_values(by='成交额', ascending=False)\n",
    "        df.to_csv(filename, index=False)\n",
    "        print(f'下载数据并存储到{filename}')\n",
    "\n",
    "    return df\n"
   ]
  },
  {
   "cell_type": "code",
   "execution_count": null,
   "id": "6fe9055f",
   "metadata": {},
   "outputs": [],
   "source": [
    "def deduplicate_etf_pool(etfs: pd.DataFrame,\n",
    "                          window: int,\n",
    "                          corr_threshold: float) -> pd.DataFrame:\n",
    "    \"\"\"\n",
    "    对ETF池去重, 计算最近 window 天收益率相关性，\n",
    "    对相关性高于阈值的ETF对, 仅保留第一次出现的ETF, 所以在去重前需根据关心的指标先进行排序。\n",
    "\n",
    "    参数：\n",
    "    - etfs: 包含'代码'列, 已按某指标从高到低排序的DataFrame\n",
    "    - window: 计算相关性所需的样本天数\n",
    "    - corr_threshold: 相关性阈值\n",
    "\n",
    "    返回：\n",
    "    - 过滤去重后的etfs子集\n",
    "    \"\"\"\n",
    "    # 获取回溯日期范围\n",
    "    benchmark = get_etf_data('510300')\n",
    "    start_date = benchmark.index[-window]\n",
    "    \n",
    "    # 取收益率\n",
    "    returns = {}\n",
    "    for code in etfs['代码']:\n",
    "        df = get_etf_data(code, start=start_date)\n",
    "        returns[code] = df['涨跌幅']\n",
    "\n",
    "    # 构建所有ETF的收益率DataFrame\n",
    "    returns_df = pd.DataFrame(returns)\n",
    "\n",
    "    # 计算相关性矩阵\n",
    "    corr_mat = returns_df.corr()\n",
    "\n",
    "    # 标记需要剔除的代码\n",
    "    to_drop = set()\n",
    "    codes = list(etfs['代码'])\n",
    "    for i, code_i in enumerate(codes):\n",
    "        for code_j in codes[i+1:]:\n",
    "            if corr_mat.loc[code_i, code_j] > corr_threshold:\n",
    "                # 保留先出现（成交额更大）的code_i，剔除code_j\n",
    "                to_drop.add(code_j)\n",
    "\n",
    "    # 返回过滤后的数据\n",
    "    filtered = etfs[~etfs['代码'].isin(to_drop)].copy()\n",
    "    return filtered\n"
   ]
  },
  {
   "cell_type": "markdown",
   "id": "e0b2e834",
   "metadata": {},
   "source": [
    "# 筛选股票池"
   ]
  },
  {
   "cell_type": "code",
   "execution_count": 5,
   "id": "9de62152",
   "metadata": {},
   "outputs": [],
   "source": [
    "# 价格与流动性初筛\n",
    "primary_etfs = get_etfs()\n",
    "primary_etfs = primary_etfs.sort_values(by='成交额', ascending=False)\n",
    "primary_etfs = primary_etfs[(primary_etfs['最新价'] < max_price) & (primary_etfs['成交额'] > min_transaction_amount / 2)]\n",
    "primary_etfs = primary_etfs[['代码', '名称']] \n"
   ]
  },
  {
   "cell_type": "code",
   "execution_count": 6,
   "id": "5710b7ce",
   "metadata": {},
   "outputs": [],
   "source": [
    "# 样本量与流动性筛选\n",
    "qualified_etfs = []\n",
    "for i in range(len(primary_etfs)):\n",
    "    code = primary_etfs.iat[i, 0][2:]\n",
    "    df = get_etf_data(code)\n",
    "    etf_dict = {\n",
    "        '代码': code, \n",
    "        '名称': primary_etfs.iat[i, 1],\n",
    "        '样本量': len(df),\n",
    "        '日均成交额': df['成交额'].tail(min_sample_size).mean(),\n",
    "        '日均涨跌幅': df['涨跌幅'].tail(min_sample_size).mean(),\n",
    "    }\n",
    "    qualified_etfs.append(etf_dict)\n",
    "qualified_etfs = pd.DataFrame(qualified_etfs)\n",
    "qualified_etfs = qualified_etfs[\n",
    "    (qualified_etfs['日均成交额'] > min_transaction_amount) &  # 日均成交额要求\n",
    "    (qualified_etfs['样本量'] > min_sample_size)\n",
    "]   \n",
    "qualified_etfs = qualified_etfs.sort_values(by='日均涨跌幅', ascending=False)\n",
    "qualified_etfs.to_csv('data/qualified_etfs.csv', index=False)\n"
   ]
  },
  {
   "cell_type": "code",
   "execution_count": 7,
   "id": "d27003f8",
   "metadata": {},
   "outputs": [],
   "source": [
    "# 相关性去重\n",
    "deduplicate_etfs = deduplicate_etf_pool(qualified_etfs, window=min_sample_size, corr_threshold=0.88)\n",
    "deduplicate_etfs.to_csv('data/deduplicate_etfs.csv', index=False)\n"
   ]
  }
 ],
 "metadata": {
  "kernelspec": {
   "display_name": "24",
   "language": "python",
   "name": "python3"
  },
  "language_info": {
   "codemirror_mode": {
    "name": "ipython",
    "version": 3
   },
   "file_extension": ".py",
   "mimetype": "text/x-python",
   "name": "python",
   "nbconvert_exporter": "python",
   "pygments_lexer": "ipython3",
   "version": "3.12.9"
  }
 },
 "nbformat": 4,
 "nbformat_minor": 5
}
