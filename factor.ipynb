{
 "cells": [
  {
   "cell_type": "markdown",
   "id": "7e0155c3",
   "metadata": {},
   "source": [
    "# 导入依赖库"
   ]
  },
  {
   "cell_type": "code",
   "execution_count": 1,
   "id": "d1958442",
   "metadata": {},
   "outputs": [],
   "source": [
    "import os\n",
    "import pandas as pd\n",
    "import numpy as np\n",
    "from utils import get_data_dict, compute_ic, get_ret_mat"
   ]
  },
  {
   "cell_type": "markdown",
   "id": "5d093b09",
   "metadata": {},
   "source": [
    "# 超参数"
   ]
  },
  {
   "cell_type": "code",
   "execution_count": 2,
   "id": "6c0f611b",
   "metadata": {},
   "outputs": [],
   "source": [
    "start_date = '2024-06-01'  # 因子计算采用数据的起始日期\n",
    "update = True"
   ]
  },
  {
   "cell_type": "markdown",
   "id": "3e252874",
   "metadata": {},
   "source": [
    "# 工具函数"
   ]
  },
  {
   "cell_type": "code",
   "execution_count": 3,
   "id": "284e8e2e",
   "metadata": {},
   "outputs": [],
   "source": [
    "def _format_params_suffix(params: dict) -> str:\n",
    "    \"\"\"\n",
    "    Format params into a filename suffix. Single param uses its value; multiple params sorted by key.\n",
    "    \"\"\"\n",
    "    if not params:\n",
    "        return ''\n",
    "    items = sorted(params.items())\n",
    "    parts = []\n",
    "    for _, value in items:\n",
    "        parts.append(str(value))\n",
    "    return '_' + '_'.join(parts)"
   ]
  },
  {
   "cell_type": "code",
   "execution_count": 4,
   "id": "8b00c1c2",
   "metadata": {},
   "outputs": [],
   "source": [
    "def compute_factor(data_dict, factor_func, update=False, cache_dir=\"data/factor\", **params):\n",
    "    \"\"\"\n",
    "    Compute a factor for each DataFrame in data_dict, cache the result locally,\n",
    "    and compute daily factor rank IC against future `forward_days`-day returns.\n",
    "\n",
    "    Parameters:\n",
    "    - data_dict: dict of {code: pd.DataFrame}, each df must contain a 'close' column\n",
    "    - factor_func: callable(df, **params) -> pd.Series or pd.DataFrame of factor values\n",
    "    - update: bool, if True recompute even if cache exists\n",
    "    - cache_dir: directory to store cached factor CSVs\n",
    "    - params: additional parameters passed to factor_func\n",
    "\n",
    "    Returns:\n",
    "    - df_factor: pd.DataFrame, index=dates, columns=codes, factor values\n",
    "    - ic_series: pd.Series, index=dates, daily Rank IC (float)\n",
    "    \"\"\"\n",
    "    # Ensure cache directory exists\n",
    "    os.makedirs(cache_dir, exist_ok=True)\n",
    "\n",
    "    # Build cache filename\n",
    "    func_name = factor_func.__name__\n",
    "    suffix = _format_params_suffix(params)\n",
    "    cache_path = os.path.join(cache_dir, f\"{func_name}{suffix}.csv\")\n",
    "\n",
    "    # Load from cache if available\n",
    "    if not update and os.path.exists(cache_path):\n",
    "        df_factor = pd.read_csv(cache_path, index_col=0, parse_dates=True)\n",
    "    else:\n",
    "        # 获取收益率df以计算ic\n",
    "        ret_mat = get_ret_mat(data_dict)\n",
    "\n",
    "        # Otherwise compute factor\n",
    "        raw_factor = {}\n",
    "        for code, df in data_dict.items():\n",
    "            raw_factor[code] = factor_func(df, **params)\n",
    "        df_factor = pd.concat(raw_factor, axis=1)\n",
    "\n",
    "        df_factor['ic'] = compute_ic(df_factor, ret_mat)\n",
    "\n",
    "        # Cache to CSV\n",
    "        df_factor.to_csv(cache_path)\n",
    "\n",
    "    return df_factor"
   ]
  },
  {
   "cell_type": "markdown",
   "id": "f5ac098c",
   "metadata": {},
   "source": [
    "# 获取历史行情"
   ]
  },
  {
   "cell_type": "code",
   "execution_count": 5,
   "id": "8e157f50",
   "metadata": {},
   "outputs": [],
   "source": [
    "# 历史行情\n",
    "data_dict = get_data_dict(start=start_date)"
   ]
  },
  {
   "cell_type": "markdown",
   "id": "6790bb52",
   "metadata": {},
   "source": [
    "# 因子计算"
   ]
  },
  {
   "cell_type": "code",
   "execution_count": 6,
   "id": "6ee8aba0",
   "metadata": {},
   "outputs": [],
   "source": [
    "# 如果update为True，删除cache_dir下所有文件\n",
    "if update:\n",
    "    for fname in os.listdir('data/factor'):\n",
    "        try:\n",
    "            os.remove(os.path.join('data/factor', fname))\n",
    "        except Exception as e:\n",
    "            print(f\"删除文件失败: {fname}, 错误: {e}\")"
   ]
  },
  {
   "cell_type": "code",
   "execution_count": 7,
   "id": "3de740b3",
   "metadata": {},
   "outputs": [],
   "source": [
    "# close与ma之差因子：(close-ma_n)/ma_n\n",
    "def close_ma(df: pd.DataFrame, window: int = 20) -> pd.Series:\n",
    "    ma = df['close'].rolling(window=window).mean()\n",
    "    return (df['close'] - ma) / ma\n",
    "\n",
    "for window in [3, 5, 10, 15, 20, 40, 60, 120]:\n",
    "    compute_factor(data_dict, close_ma, window=window, update=update)"
   ]
  },
  {
   "cell_type": "code",
   "execution_count": 8,
   "id": "d3360bba",
   "metadata": {},
   "outputs": [],
   "source": [
    "# 动量因子：过去 window 个交易日的收益率\n",
    "def momentum(df: pd.DataFrame, window: int = 20) -> pd.Series:\n",
    "    return df['close'].pct_change(periods=window)\n",
    "\n",
    "for window in [1, 3, 5, 10, 15, 20, 40, 60, 120]:\n",
    "    compute_factor(data_dict, momentum, window=window, update=update)"
   ]
  },
  {
   "cell_type": "code",
   "execution_count": 9,
   "id": "917fcd2e",
   "metadata": {},
   "outputs": [],
   "source": [
    "# 计算当前收盘价与n日前开盘价的比值减1\n",
    "def close_open_n(df: pd.DataFrame, window: int = 5) -> pd.Series:\n",
    "    return df['close'] / df['open'].shift(window) - 1\n",
    "\n",
    "for window in [1, 3, 5]:\n",
    "    compute_factor(data_dict, close_open_n, window=window, update=update)\n"
   ]
  },
  {
   "cell_type": "code",
   "execution_count": 10,
   "id": "ee8cbccc",
   "metadata": {},
   "outputs": [],
   "source": [
    "# 波动率因子：过去 window 个交易日的收益率标准差\n",
    "def volatility(df: pd.DataFrame, window: int = 20) -> pd.Series:\n",
    "    return df['涨跌幅'].rolling(window=window).std()\n",
    "\n",
    "for window in [3, 5, 10, 15, 20, 40, 60, 120]:\n",
    "    compute_factor(data_dict, volatility, window=window, update=update)"
   ]
  },
  {
   "cell_type": "code",
   "execution_count": 11,
   "id": "8f4fe6ce",
   "metadata": {},
   "outputs": [],
   "source": [
    "# 偏度因子：过去 window 个交易日的收益率偏度\n",
    "def skewness(df: pd.DataFrame, window: int = 20) -> pd.Series:\n",
    "    return df['涨跌幅'].rolling(window=window).skew()\n",
    "\n",
    "for window in [3, 5, 10, 15, 20, 40, 60, 120]:\n",
    "    compute_factor(data_dict, skewness, window=window, update=update)\n",
    "\n",
    "# 峰度因子：过去 window 个交易日的收益率峰度\n",
    "def kurtosis(df: pd.DataFrame, window: int = 20) -> pd.Series:\n",
    "    return df['涨跌幅'].rolling(window=window).kurt()\n",
    "\n",
    "for window in [5, 10, 15, 20, 40, 60, 120]:\n",
    "    compute_factor(data_dict, kurtosis, window=window, update=update)"
   ]
  },
  {
   "cell_type": "code",
   "execution_count": 12,
   "id": "9c86d80b",
   "metadata": {},
   "outputs": [],
   "source": [
    "# 振幅因子：过去 window 个交易日的振幅均值\n",
    "def amplitude(df: pd.DataFrame, window: int = 20) -> pd.Series:\n",
    "    return df['振幅'].rolling(window=window).mean()\n",
    "\n",
    "for window in [1, 3, 5, 10, 15, 20, 40, 60, 120]:\n",
    "    compute_factor(data_dict, amplitude, window=window, update=update)"
   ]
  },
  {
   "cell_type": "code",
   "execution_count": 13,
   "id": "b03c32bd",
   "metadata": {},
   "outputs": [],
   "source": [
    "# 换手率因子：过去 window 个交易日的换手率均值\n",
    "def turnover(df: pd.DataFrame, window: int = 20) -> pd.Series:\n",
    "    return df['换手率'].rolling(window=window).mean()\n",
    "\n",
    "for window in [3, 5, 10, 15, 20, 40, 60, 120]:\n",
    "    compute_factor(data_dict, turnover, window=window, update=update)"
   ]
  },
  {
   "cell_type": "code",
   "execution_count": 14,
   "id": "77d8756b",
   "metadata": {},
   "outputs": [],
   "source": [
    "# 相对换手率\n",
    "def turnover_rel(df: pd.DataFrame, window: int = 20) -> pd.Series:\n",
    "    return df['换手率'] / df['换手率'].rolling(window).mean()\n",
    "\n",
    "for window in [5, 10, 15, 20, 40, 60, 120]:\n",
    "    compute_factor(data_dict, turnover_rel, window=window, update=update)"
   ]
  },
  {
   "cell_type": "code",
   "execution_count": 15,
   "id": "d1d3da5d",
   "metadata": {},
   "outputs": [],
   "source": [
    "# 成交量分位数：今日成交量在过去 window 日中的分位数\n",
    "def volume_pct(df: pd.DataFrame, window: int = 20) -> pd.Series:\n",
    "    return df['volume'].rolling(window).apply(lambda x: pd.Series(x).rank(pct=True).iloc[-1])\n",
    "\n",
    "for window in [5, 10, 15, 20, 40, 60, 120]:\n",
    "    compute_factor(data_dict, volume_pct, window=window, update=update)"
   ]
  },
  {
   "cell_type": "code",
   "execution_count": 16,
   "id": "df5cdce9",
   "metadata": {},
   "outputs": [],
   "source": [
    "# 量比 \n",
    "def volume_ratio(df: pd.DataFrame, window: int = 20) -> pd.Series:\n",
    "    return df['volume'] / df['volume'].rolling(window).mean()\n",
    "\n",
    "for window in [5, 10, 15, 20, 40, 60, 120]:\n",
    "    compute_factor(data_dict, volume_ratio, window=window, update=update)"
   ]
  },
  {
   "cell_type": "code",
   "execution_count": 17,
   "id": "8b1d0bbb",
   "metadata": {},
   "outputs": [],
   "source": [
    "# 平均真实波幅（ATR）因子, 用当日典型价格（Typical Price）消除基数影响\n",
    "def atr(df: pd.DataFrame, window: int = 14) -> pd.Series:\n",
    "    typical = (df['high'] + df['low'] + df['close']) / 3\n",
    "    high_low = df['high'] - df['low']\n",
    "    high_prev = (df['high'] - df['close'].shift(1)).abs()\n",
    "    low_prev = (df['low']  - df['close'].shift(1)).abs()\n",
    "    tr = pd.concat([high_low, high_prev, low_prev], axis=1).max(axis=1)\n",
    "    tr_rel = tr / typical\n",
    "    return tr_rel.rolling(window, min_periods=1).mean()\n",
    "\n",
    "for window in [7, 14, 21, 42, 63, 119]:\n",
    "    compute_factor(data_dict, atr, window=window, update=update)"
   ]
  },
  {
   "cell_type": "code",
   "execution_count": 18,
   "id": "852a0d43",
   "metadata": {},
   "outputs": [],
   "source": [
    "# 布林带宽度因子：上下轨差占中轨比例\n",
    "def boll(df: pd.DataFrame, window: int = 20) -> pd.Series:\n",
    "    mid = df['close'].rolling(window).mean()\n",
    "    std = df['close'].rolling(window).std()\n",
    "    return std / mid\n",
    "           \n",
    "for window in [3, 5, 10, 15, 20, 40, 60, 120]:\n",
    "    compute_factor(data_dict, boll, window=window, update=update)"
   ]
  },
  {
   "cell_type": "code",
   "execution_count": 19,
   "id": "909440f2",
   "metadata": {},
   "outputs": [],
   "source": [
    "# 移动平均价差因子：短期均线高出长期均线的比例\n",
    "def ma_spread(df: pd.DataFrame, short: int = 5, long: int = 20) -> pd.Series:\n",
    "    ma_short = df['close'].rolling(window=short).mean() \n",
    "    ma_long = df['close'].rolling(window=long).mean()\n",
    "    return (ma_short - ma_long) / ma_long\n",
    "\n",
    "short_long = [\n",
    "    (3, 15),\n",
    "    (3, 20),\n",
    "    (5, 20),\n",
    "    (10, 20),\n",
    "    (10, 40),\n",
    "    (10, 60),\n",
    "    (20, 80),\n",
    "    (30, 120),\n",
    "]\n",
    "\n",
    "for short, long in short_long:\n",
    "    compute_factor(data_dict, ma_spread, short=short, long=long, update=update)"
   ]
  },
  {
   "cell_type": "code",
   "execution_count": 20,
   "id": "bd69e52a",
   "metadata": {},
   "outputs": [],
   "source": [
    "# 相对强弱指数（RSI）因子\n",
    "def rsi(df: pd.DataFrame, window: int = 14) -> pd.Series:\n",
    "    delta = df['close'].diff()\n",
    "    up = delta.clip(lower=0)\n",
    "    down = -delta.clip(upper=0)\n",
    "    ma_up = up.rolling(window).mean()\n",
    "    ma_down = down.rolling(window).mean()\n",
    "    rs = ma_up / (ma_down + 1e-9)\n",
    "    return 100 - 100 / (1 + rs)\n",
    "\n",
    "for window in [7, 14, 21, 42, 63, 119]:\n",
    "    compute_factor(data_dict, rsi, window=window, update=update)"
   ]
  },
  {
   "cell_type": "code",
   "execution_count": 21,
   "id": "f71a422e",
   "metadata": {},
   "outputs": [],
   "source": [
    "# 能量潮（OBV）因子\n",
    "def obv(df: pd.DataFrame, window: int = 20) -> pd.Series:\n",
    "    direction = df['close'].diff().apply(lambda x: 1 if x > 0 else (-1 if x < 0 else np.nan))\n",
    "    signed_vol = direction * df['volume']\n",
    "    obv_window = signed_vol.rolling(window=window, min_periods=1).sum()\n",
    "    return obv_window\n",
    "\n",
    "for window in [5, 10, 20, 40, 60, 120]:\n",
    "    compute_factor(data_dict, obv, window=window, update=update)"
   ]
  },
  {
   "cell_type": "code",
   "execution_count": 22,
   "id": "6a342d2d",
   "metadata": {},
   "outputs": [],
   "source": [
    "# 能量潮（OBV）因子: 成交额\n",
    "def obv_amount(df: pd.DataFrame, window: int = 20) -> pd.Series:\n",
    "    direction = df['close'].diff().apply(lambda x: 1 if x > 0 else (-1 if x < 0 else np.nan))\n",
    "    signed_vol = direction * df['成交额']\n",
    "    obv_window = signed_vol.rolling(window=window, min_periods=1).sum()\n",
    "    return obv_window\n",
    "\n",
    "for window in [5, 10, 20, 40, 60, 120]:\n",
    "    compute_factor(data_dict, obv_amount, window=window, update=update)"
   ]
  },
  {
   "cell_type": "code",
   "execution_count": 23,
   "id": "491bd047",
   "metadata": {},
   "outputs": [],
   "source": [
    "# 价量趋势指标 PVT\n",
    "def pvt(df: pd.DataFrame, window: int = 20) -> pd.Series:\n",
    "    pvt_series = df['涨跌幅'] * df['成交额']\n",
    "    return pvt_series.rolling(window=window, min_periods=1).sum()\n",
    "\n",
    "for window in [5, 10, 20, 40, 60, 120]:\n",
    "    compute_factor(data_dict, obv, window=window, update=update)"
   ]
  },
  {
   "cell_type": "code",
   "execution_count": 24,
   "id": "759c6801",
   "metadata": {},
   "outputs": [],
   "source": [
    "# macd 因子\n",
    "def macd(df: pd.DataFrame,\n",
    "         fast: int = 12,\n",
    "         slow: int = 26,\n",
    "         signal: int = 9) -> pd.DataFrame:\n",
    "    price = df['close']\n",
    "\n",
    "    # 计算快 EMA 和慢 EMA\n",
    "    ema_fast = price.ewm(span=fast, adjust=False).mean()\n",
    "    ema_slow = price.ewm(span=slow, adjust=False).mean()\n",
    "\n",
    "    # MACD 线\n",
    "    macd_line = ema_fast - ema_slow\n",
    "\n",
    "    # 信号线\n",
    "    signal_line = macd_line.ewm(span=signal, adjust=False).mean()\n",
    "\n",
    "    return macd_line - signal_line\n",
    "\n",
    "_ = compute_factor(data_dict, macd, update=update)"
   ]
  },
  {
   "cell_type": "code",
   "execution_count": 25,
   "id": "ac3bc563",
   "metadata": {},
   "outputs": [],
   "source": [
    "# 回撤因子：过去 window 个交易日的最大回撤\n",
    "def max_drawdown(df: pd.DataFrame, window: int = 20) -> pd.Series:\n",
    "    roll_max = df['close'].rolling(window, min_periods=1).max()\n",
    "    drawdown = (df['close'] - roll_max) / roll_max\n",
    "    mdd = drawdown.rolling(window).min()\n",
    "    return mdd\n",
    "\n",
    "for window in [5, 10, 15, 20, 40, 60, 120]:\n",
    "    compute_factor(data_dict, max_drawdown, window=window, update=update)"
   ]
  },
  {
   "cell_type": "code",
   "execution_count": 26,
   "id": "8fc92a48",
   "metadata": {},
   "outputs": [],
   "source": [
    "# 振幅 × 换手滚动均值\n",
    "def amp_turn(df: pd.DataFrame, window: int = 20) -> pd.Series:\n",
    "    amp = df['振幅']\n",
    "    turn = df['换手率']\n",
    "    return (amp * turn).rolling(window).mean()\n",
    "\n",
    "for window in [1, 3, 5, 10, 15, 20, 40, 60, 120]:\n",
    "    compute_factor(data_dict, amp_turn, window=window, update=update)"
   ]
  },
  {
   "cell_type": "code",
   "execution_count": 27,
   "id": "25fd16f3",
   "metadata": {},
   "outputs": [],
   "source": [
    "# 振幅 × 成交额滚动均值\n",
    "def amp_vol(df: pd.DataFrame, window: int = 20) -> pd.Series:\n",
    "    amp = df['振幅']\n",
    "    vol = df['成交额']\n",
    "    return (amp * vol).rolling(window).mean()\n",
    "\n",
    "for window in [1, 3, 5, 10, 15, 20, 40, 60, 120]:\n",
    "    compute_factor(data_dict, amp_vol, window=window, update=update)"
   ]
  }
 ],
 "metadata": {
  "kernelspec": {
   "display_name": "24",
   "language": "python",
   "name": "python3"
  },
  "language_info": {
   "codemirror_mode": {
    "name": "ipython",
    "version": 3
   },
   "file_extension": ".py",
   "mimetype": "text/x-python",
   "name": "python",
   "nbconvert_exporter": "python",
   "pygments_lexer": "ipython3",
   "version": "3.12.9"
  }
 },
 "nbformat": 4,
 "nbformat_minor": 5
}
